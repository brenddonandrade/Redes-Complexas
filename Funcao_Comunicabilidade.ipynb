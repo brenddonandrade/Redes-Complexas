{
  "nbformat": 4,
  "nbformat_minor": 0,
  "metadata": {
    "colab": {
      "provenance": [],
      "authorship_tag": "ABX9TyM9E/rk38tNMR+eh4h1CPxj",
      "include_colab_link": true
    },
    "kernelspec": {
      "name": "python3",
      "display_name": "Python 3"
    },
    "language_info": {
      "name": "python"
    }
  },
  "cells": [
    {
      "cell_type": "markdown",
      "metadata": {
        "id": "view-in-github",
        "colab_type": "text"
      },
      "source": [
        "<a href=\"https://colab.research.google.com/github/brenddonandrade/Redes-Complexas/blob/main/Funcao_Comunicabilidade.ipynb\" target=\"_parent\"><img src=\"https://colab.research.google.com/assets/colab-badge.svg\" alt=\"Open In Colab\"/></a>"
      ]
    },
    {
      "cell_type": "markdown",
      "source": [
        "# Importações e Instalações necessárias"
      ],
      "metadata": {
        "id": "k5t35x_SSHKt"
      }
    },
    {
      "cell_type": "code",
      "execution_count": null,
      "metadata": {
        "id": "a6iOMTkQQ4m_"
      },
      "outputs": [],
      "source": [
        "import numpy as np\n",
        "from math import *\n",
        "import networkx as nx"
      ]
    },
    {
      "cell_type": "code",
      "source": [
        "\n",
        "# Importando os Grafos onde N é o numero de vertices \n",
        "# Altera o tamanho para ver que funciona até um certo tamanho, por exemplo, para N = 10 funciona bem\n",
        "\n",
        "N = 34\n",
        "\n",
        "K = nx.karate_club_graph()\n",
        "C = nx.complete_graph(N)\n",
        "S = nx.star_graph(N)\n",
        "R = nx.cycle_graph(N)\n",
        "P = nx.krackhardt_kite_graph()"
      ],
      "metadata": {
        "id": "I8By1LKeSVgs"
      },
      "execution_count": null,
      "outputs": []
    },
    {
      "cell_type": "markdown",
      "source": [
        "# Funcao que transforma de NX -> NP"
      ],
      "metadata": {
        "id": "v8UK0HOFOd9b"
      }
    },
    {
      "cell_type": "code",
      "source": [
        "def cria_matriz_adj(G):\n",
        "\n",
        "  nodes = len(G.adj.items())\n",
        "  matriz_adj = np.zeros((nodes, nodes), int)\n",
        "\n",
        "  for node, nodedict in G.adj.items():\n",
        "    for key in nodedict.keys():\n",
        "      matriz_adj[node][key] = 1\n",
        "      matriz_adj[key][node] = 1\n",
        "\n",
        "  return matriz_adj\n",
        "\n",
        "matriz_adj_karate = cria_matriz_adj(K)\n",
        "matriz_adj_completo = cria_matriz_adj(C)\n",
        "matriz_adj_star = cria_matriz_adj(S)\n",
        "matriz_adj_ring = cria_matriz_adj(R)\n",
        "matriz_adj_kite = cria_matriz_adj(P)"
      ],
      "metadata": {
        "id": "Y5WCa2yyOclK"
      },
      "execution_count": null,
      "outputs": []
    },
    {
      "cell_type": "markdown",
      "source": [
        "# Funcao que calcula a Comunicabilidade"
      ],
      "metadata": {
        "id": "L7NKBa-ZRxCo"
      }
    },
    {
      "cell_type": "code",
      "source": [
        "def matriz_comunicabilidade(matriz, n):\n",
        "  matriz_padrao = matriz.copy()\n",
        "  matriz_suporte_1 = matriz.copy()\n",
        "  matriz_c = np.identity(len(matriz), float)\n",
        "  matriz_c += matriz_padrao\n",
        "\n",
        "  for k in range(2,n+1):\n",
        "    \n",
        "    if k > 1:\n",
        "      \n",
        "      # Eleva a matriz por k vezes\n",
        "      matriz_padrao = np.matmul(matriz_padrao, matriz_suporte_1)\n",
        "      matriz_suporte_2 = matriz_padrao/factorial(k)\n",
        "\n",
        "\n",
        "      # soma as n matrizes\n",
        "      matriz_c += matriz_suporte_2\n",
        "  \n",
        "  return matriz_c"
      ],
      "metadata": {
        "id": "X8_0OLq8RxPB"
      },
      "execution_count": null,
      "outputs": []
    },
    {
      "cell_type": "code",
      "source": [
        "# Aqui, para testar o completo, só trocar tudo que tem \"karate\" para \"completo\" nesse mesmo bloco de codigo e também alterando a letra K para C\n",
        "matriz_comunica_kite = matriz_comunicabilidade(matriz_adj_kite, 20)\n",
        "print(matriz_comunica_kite)\n",
        "\n",
        "\n",
        "\n",
        "# Alterar K -> C ou o contrario para fazer a volta\n",
        "matriz_comunica_kite = nx.communicability(P)\n",
        "print(matriz_comunica_kite)"
      ],
      "metadata": {
        "colab": {
          "base_uri": "https://localhost:8080/"
        },
        "id": "7qklGKwpE9mR",
        "outputId": "9d827c22-4bf0-4579-99ff-ddbd88039e6d"
      },
      "execution_count": null,
      "outputs": [
        {
          "output_type": "stream",
          "name": "stdout",
          "text": [
            "[[10.25419736  9.09743794  8.1931247  12.67231095  6.82482583 10.5652494\n",
            "   9.54382526  4.48275889  0.9035421   0.15845898]\n",
            " [ 9.09743794 10.25419736  6.82482583 12.67231095  8.1931247   9.54382526\n",
            "  10.5652494   4.48275889  0.9035421   0.15845898]\n",
            " [ 8.1931247   6.82482583  7.40205268 10.32667137  5.22386913  8.93820782\n",
            "   7.56990895  3.73767577  0.76682422  0.13671788]\n",
            " [12.67231095 12.67231095 10.32667137 17.51835544 10.32667137 13.96132272\n",
            "  13.96132272  6.38749424  1.3275996   0.2397423 ]\n",
            " [ 6.82482583  8.1931247   5.22386913 10.32667137  7.40205268  7.56990895\n",
            "   8.93820782  3.73767577  0.76682422  0.13671788]\n",
            " [10.5652494   9.54382526  8.93820782 13.96132272  7.56990895 12.70286136\n",
            "  11.54610194  6.40468787  1.64325195  0.36862294]\n",
            " [ 9.54382526 10.5652494   7.56990895 13.96132272  8.93820782 11.54610194\n",
            "  12.70286136  6.40468787  1.64325195  0.36862294]\n",
            " [ 4.48275889  4.48275889  3.73767577  6.38749424  3.73767577  6.40468787\n",
            "   6.40468787  4.87959848  2.13209293  0.73970985]\n",
            " [ 0.9035421   0.9035421   0.76682422  1.3275996   0.76682422  1.64325195\n",
            "   1.64325195  2.13209293  2.33280443  1.39484706]\n",
            " [ 0.15845898  0.15845898  0.13671788  0.2397423   0.13671788  0.36862294\n",
            "   0.36862294  0.73970985  1.39484706  1.59309458]]\n",
            "{0: {0: 10.254197421126229, 1: 9.097438001203633, 2: 8.193124753162298, 3: 12.672311038329916, 4: 6.824825881153705, 5: 10.565249468771835, 6: 9.543825332085861, 7: 4.482758924559949, 8: 0.9035421110717812, 9: 0.1584589831879955}, 1: {0: 9.097438001203633, 1: 10.254197421126221, 2: 6.824825881153704, 3: 12.672311038329909, 4: 8.193124753162293, 5: 9.54382533208585, 6: 10.565249468771835, 7: 4.4827589245599455, 8: 0.9035421110717816, 9: 0.15845898318799703}, 2: {0: 8.193124753162298, 1: 6.824825881153704, 2: 7.4020527236843705, 3: 10.326671442343834, 4: 5.223869167075797, 5: 8.938207881046083, 6: 7.5699090090375, 7: 3.737675796676163, 8: 0.7668242251697427, 9: 0.1367178859020391}, 3: {0: 12.672311038329916, 1: 12.672311038329909, 2: 10.326671442343834, 3: 17.518355556634713, 4: 10.326671442343828, 5: 13.961322820195111, 6: 13.96132282019512, 7: 6.387494285389501, 8: 1.3275996126897371, 9: 0.23974230472691593}, 4: {0: 6.824825881153705, 1: 8.193124753162293, 2: 5.223869167075797, 3: 10.326671442343828, 4: 7.402052723684367, 5: 7.569909009037492, 6: 8.938207881046084, 7: 3.737675796676162, 8: 0.7668242251697437, 9: 0.13671788590204081}, 5: {0: 10.565249468771835, 1: 9.54382533208585, 2: 8.938207881046083, 3: 13.961322820195111, 4: 7.569909009037492, 5: 12.702861435937187, 6: 11.5461020160146, 7: 6.404687905303879, 8: 1.6432519588166823, 9: 0.3686229372548385}, 6: {0: 9.543825332085861, 1: 10.565249468771835, 2: 7.5699090090375, 3: 13.96132282019512, 4: 8.938207881046084, 5: 11.5461020160146, 6: 12.702861435937196, 7: 6.404687905303881, 8: 1.6432519588166832, 9: 0.3686229372548396}, 7: {0: 4.482758924559949, 1: 4.4827589245599455, 2: 3.737675796676163, 3: 6.387494285389501, 4: 3.737675796676162, 5: 6.404687905303879, 6: 6.404687905303881, 7: 4.879598498838998, 8: 2.132092934810773, 9: 0.7397098477449021}, 8: {0: 0.9035421110717812, 1: 0.9035421110717816, 2: 0.7668242251697427, 3: 1.3275996126897371, 4: 0.7668242251697437, 5: 1.6432519588166823, 6: 1.6432519588166832, 7: 2.132092934810773, 8: 2.3328044289505354, 9: 1.3948470603011018}, 9: {0: 0.1584589831879955, 1: 0.15845898318799703, 2: 0.1367178859020391, 3: 0.23974230472691593, 4: 0.13671788590204081, 5: 0.3686229372548385, 6: 0.3686229372548396, 7: 0.7397098477449021, 8: 1.3948470603011018, 9: 1.593094581205634}}\n"
          ]
        }
      ]
    },
    {
      "cell_type": "markdown",
      "source": [
        "# Funcao que transformar Dict(Comunicabilidade do Networkx) -> Lista (nossa)"
      ],
      "metadata": {
        "id": "H_zy_szSmQtN"
      }
    },
    {
      "cell_type": "code",
      "source": [
        "def transforma_tipo_comunicabilidade(P):\n",
        "  nodes = len(P.adj.items())\n",
        "  matriz_c = np.zeros((nodes, nodes), float)\n",
        "\n",
        "  for node, nodedict in nx.communicability(P).items():\n",
        "    for key, value in nodedict.items():\n",
        "      matriz_c[node][key] = value\n",
        "    \n",
        "  return matriz_c"
      ],
      "metadata": {
        "id": "IAXvlFaamQft"
      },
      "execution_count": null,
      "outputs": []
    },
    {
      "cell_type": "markdown",
      "source": [
        "# Função que retorna a Comunicabilidade Media (indice de comunicabilidade) de um Grafo"
      ],
      "metadata": {
        "id": "pEjkT4nNxbX2"
      }
    },
    {
      "cell_type": "code",
      "source": [
        "def calc_comunicabilidade(matriz):\n",
        "  return (1/pow(len(matriz),2) * np.sum(matriz))"
      ],
      "metadata": {
        "id": "NDoczTftxbin"
      },
      "execution_count": null,
      "outputs": []
    },
    {
      "cell_type": "code",
      "source": [
        "matriz_comunica_completo = transforma_tipo_comunicabilidade(C)\n",
        "\n",
        "# Indice de comunicabilidade \n",
        "comunica_completo = calc_comunicabilidade(matriz_comunica_completo)\n",
        "\n",
        "# Maior indice de comunicabilidade\n",
        "maior_indice_completo = np.max(matriz_comunica_completo)\n",
        "\n",
        "print(comunica_completo, maior_indice_completo)"
      ],
      "metadata": {
        "colab": {
          "base_uri": "https://localhost:8080/"
        },
        "id": "fjzV_FZqwUaA",
        "outputId": "a833f874-0287-437b-c083-618e7f972d77"
      },
      "execution_count": null,
      "outputs": [
        {
          "output_type": "stream",
          "name": "stdout",
          "text": [
            "6313046464291.561 6313046464291.93\n"
          ]
        }
      ]
    }
  ]
}