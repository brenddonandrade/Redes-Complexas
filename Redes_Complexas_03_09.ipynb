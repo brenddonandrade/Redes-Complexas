{
  "nbformat": 4,
  "nbformat_minor": 0,
  "metadata": {
    "colab": {
      "provenance": [],
      "collapsed_sections": [
        "giTbVAwldFZG",
        "rBfmcO6ucwav",
        "HxDj5X8RB2mF"
      ],
      "authorship_tag": "ABX9TyOTUtOJUIgLtTdUnq9CqugA",
      "include_colab_link": true
    },
    "kernelspec": {
      "name": "python3",
      "display_name": "Python 3"
    },
    "language_info": {
      "name": "python"
    }
  },
  "cells": [
    {
      "cell_type": "markdown",
      "metadata": {
        "id": "view-in-github",
        "colab_type": "text"
      },
      "source": [
        "<a href=\"https://colab.research.google.com/github/brenddonandrade/Redes-Complexas/blob/main/Redes_Complexas_03_09.ipynb\" target=\"_parent\"><img src=\"https://colab.research.google.com/assets/colab-badge.svg\" alt=\"Open In Colab\"/></a>"
      ]
    },
    {
      "cell_type": "markdown",
      "source": [
        "# Mental Characterization"
      ],
      "metadata": {
        "id": "Lq6DJY2yOHCX"
      }
    },
    {
      "cell_type": "markdown",
      "source": [
        "## Intuitive idea\n",
        "\n",
        "- Size (Complex system) : when talk about size, my mind thinks about something quantitative of the system, how the nodes and edges.\n",
        "\n",
        "- Connectivity: can define structure or characterists about system, how well the node or the own system connection in relaction the others.\n",
        "\n",
        "- Redundancy: Diferentes paths ou walks podem chegar num mesmo ponto final partindo do mesmo vertice inicial.\n",
        "\n",
        "- Distances: define what is the distance, or better, how many nodes do you have to go through to reach another? \n",
        "\n",
        "- Complexidade: does it say about the structure that the graph represents?"
      ],
      "metadata": {
        "id": "L3HVubtLOX3L"
      }
    },
    {
      "cell_type": "markdown",
      "source": [
        "## How to represent a graph? \n",
        "\n",
        "- List of adjacency\n",
        "- Matrix of adjacency\n",
        "- Create a script for this"
      ],
      "metadata": {
        "id": "QAEmK_n2Rd_O"
      }
    },
    {
      "cell_type": "markdown",
      "source": [
        "## What's a \"simple\" graph?\n",
        "\n",
        "A 'simple' graph is a graph most basic to graph definition, i.e, without edges are meaningless."
      ],
      "metadata": {
        "id": "XbJL-bG7-1Su"
      }
    },
    {
      "cell_type": "markdown",
      "source": [
        "## How can I walk on a graph? Walks vs paths\n",
        "\n",
        "if a node i has a connection with j, which in turn has a connection with k, then starting from i, one can walk and reach k. if not, we can't."
      ],
      "metadata": {
        "id": "1ocM4-NF-7Pq"
      }
    },
    {
      "cell_type": "markdown",
      "source": [
        "## List creative examples of the graph.\n",
        "- Street Networks\n",
        "- Food chain\n",
        "- Internet connections\n",
        "- Sociais networks\n",
        "- Plumbing conncections \n",
        "- The way of the rivers\n",
        "- Ploriferation of a virus in the society\n"
      ],
      "metadata": {
        "id": "jXcVdE6I_Lii"
      }
    },
    {
      "cell_type": "markdown",
      "source": [
        "## What can you say about this network? (Hammock)\n",
        "\n",
        "- We can think of the network as having two clustering at its end\n",
        "- Cycle network\n",
        "- Each node has only two connections, being the node a pompom of the network\n",
        "- Colors can represent type of links \n",
        "- The size is the sum of edges and nodes\n",
        "- there are only two paths so that, starting from one, check in the other\n",
        "- little redundant\n",
        "- The greatest distance will always be that of two adjacent nodes and choosing the greatest path.\n",
        "- Little complexity"
      ],
      "metadata": {
        "id": "OvYgXPH4_4_j"
      }
    },
    {
      "cell_type": "markdown",
      "source": [
        "## Tools\n",
        "\n",
        "- pajek, Gephi\n",
        "- igraph - C, R, ou Python, NetworkX\n",
        "- repository: "
      ],
      "metadata": {
        "id": "z9zkPdnhAMoO"
      }
    },
    {
      "cell_type": "markdown",
      "source": [
        "## Topological Characterization (grandpa's kite)\n",
        "\n",
        "- Size (Complex system) :\n",
        "\n",
        "- Connectivity: \n",
        "\n",
        "- Redundancy: \n",
        "\n",
        "- Distances: \n",
        "\n",
        "- Complexidade: \n",
        "\n"
      ],
      "metadata": {
        "id": "iiCLa04Tp5su"
      }
    },
    {
      "cell_type": "markdown",
      "source": [
        "## Topological Characterization (Zacharys Karate Club Graph)\n",
        "\n",
        "- Size (Complex system) :\n",
        "\n",
        "- Connectivity: \n",
        "\n",
        "- Redundancy: \n",
        "\n",
        "- Distances: \n",
        "\n",
        "- Complexidade: "
      ],
      "metadata": {
        "id": "QX6V_HLGwiSB"
      }
    },
    {
      "cell_type": "markdown",
      "source": [
        "# Código"
      ],
      "metadata": {
        "id": "PRvRlmGPOBSt"
      }
    },
    {
      "cell_type": "markdown",
      "source": [
        "## Objeto Grafo"
      ],
      "metadata": {
        "id": "giTbVAwldFZG"
      }
    },
    {
      "cell_type": "code",
      "source": [
        "class Grafo:\n",
        "  def __init__(self, v):\n",
        "    self.vertices = v\n",
        "    self.matriz_adj = [ [0]*v for i in range(v)]\n",
        "    self.lista_adj = [ [] for i in range(v)]\n",
        "\n",
        "  # Matriz Adj\n",
        "  def add_aresta_matriz(self, u, v):\n",
        "    self.matriz_adj[u-1][v-1] = 1\n",
        "    self.matriz_adj[v-1][u-1] = 1\n",
        "\n",
        "  # Lista Adj\n",
        "  def add_aresta_lista(self, u, v):\n",
        "    self.lista_adj[u-1].append(v-1)\n",
        "\n",
        "grafo_pratica = Grafo(5)\n",
        "\n",
        "# Criando a matriz adj grafo pipa\n",
        "grafo_pratica.add_aresta_matriz(1,2)\n",
        "grafo_pratica.add_aresta_matriz(2,3)\n",
        "grafo_pratica.add_aresta_matriz(3,4)\n",
        "grafo_pratica.add_aresta_matriz(3,5)\n",
        "grafo_pratica.add_aresta_matriz(4,5)\n",
        "\n",
        "# Criando a lista adj do grafo pipa\n",
        "grafo_pratica.add_aresta_lista(1,2)\n",
        "grafo_pratica.add_aresta_lista(2,1)\n",
        "grafo_pratica.add_aresta_lista(2,3)\n",
        "grafo_pratica.add_aresta_lista(3,2)\n",
        "grafo_pratica.add_aresta_lista(3,4)\n",
        "grafo_pratica.add_aresta_lista(3,5)\n",
        "grafo_pratica.add_aresta_lista(4,5)\n",
        "grafo_pratica.add_aresta_lista(4,3)\n",
        "grafo_pratica.add_aresta_lista(5,4)\n",
        "grafo_pratica.add_aresta_lista(5,3)\n",
        "\n",
        "\n",
        "\n",
        "print(grafo_pratica.lista_adj)"
      ],
      "metadata": {
        "colab": {
          "base_uri": "https://localhost:8080/"
        },
        "id": "UBRKuG4ZdCxU",
        "outputId": "e4c68a5d-9eaa-4d01-eb74-463ef8c647e2"
      },
      "execution_count": null,
      "outputs": [
        {
          "output_type": "stream",
          "name": "stdout",
          "text": [
            "[[1], [0, 2], [1, 3, 4], [4, 2], [3, 2]]\n"
          ]
        }
      ]
    },
    {
      "cell_type": "markdown",
      "source": [
        "## Algoritmo que transfora de Lista -> Matriz"
      ],
      "metadata": {
        "id": "rBfmcO6ucwav"
      }
    },
    {
      "cell_type": "code",
      "execution_count": null,
      "metadata": {
        "id": "qc5SylCYXa3r",
        "colab": {
          "base_uri": "https://localhost:8080/"
        },
        "outputId": "5942137d-acde-4330-de2c-11b7f1ded2f3"
      },
      "outputs": [
        {
          "output_type": "stream",
          "name": "stdout",
          "text": [
            "[[0, 1, 0, 0, 0], [1, 0, 1, 0, 0], [0, 1, 0, 1, 1], [0, 0, 1, 0, 1], [0, 0, 1, 1, 0]]\n",
            "[[0, 1, 0, 0, 0], [1, 0, 1, 0, 0], [0, 1, 0, 1, 1], [0, 0, 1, 0, 1], [0, 0, 1, 1, 0]]\n",
            "[[1], [0, 2], [1, 3, 4], [4, 2], [3, 2]]\n"
          ]
        }
      ],
      "source": [
        "def traduz_lista_matriz(lista):\n",
        "  i = 0\n",
        "  matriz_adj = []\n",
        "  for item in lista:\n",
        "    matriz_adj.append([0]*len(lista))\n",
        "  \n",
        "  for vertice in lista:\n",
        "    # print(vertice)\n",
        "    # matriz_adj[item.index()]\n",
        "    for adj in vertice:\n",
        "      # print(adj)\n",
        "      matriz_adj[i][adj] = 1\n",
        "    i = i + 1\n",
        "  \n",
        "  return matriz_adj\n",
        "\n",
        "\n",
        "traduz_lista_matriz(grafo_pratica.lista_adj)\n",
        "print(grafo_pratica.matriz_adj)\n",
        "\n",
        "print(grafo_pratica.lista_adj)\n"
      ]
    },
    {
      "cell_type": "markdown",
      "source": [
        "## Transforam Matriz -> Lista"
      ],
      "metadata": {
        "id": "HxDj5X8RB2mF"
      }
    },
    {
      "cell_type": "code",
      "source": [
        "def traduz_matriz_lista(matriz):\n",
        "  lista = []\n",
        "\n",
        "  i = 0\n",
        "  for vertice in matriz:\n",
        "    lista_suporte = []\n",
        "    for index in vertice:\n",
        "      if index == 1:\n",
        "        lista_suporte.append(i)\n",
        "      i = i+1\n",
        "    lista.append(lista_suporte)\n",
        "    i = 0\n",
        "  print(lista)\n",
        "\n",
        "\n",
        "traduz_matriz_lista(grafo_pratica.matriz_adj)\n",
        "print(grafo_pratica.lista_adj)\n"
      ],
      "metadata": {
        "colab": {
          "base_uri": "https://localhost:8080/"
        },
        "id": "v7Vb88UsB2uh",
        "outputId": "3c2b5148-6a26-415b-d735-9a70f8500d93"
      },
      "execution_count": null,
      "outputs": [
        {
          "output_type": "stream",
          "name": "stdout",
          "text": [
            "[[1], [0, 2], [1, 3, 4], [2, 4], [2, 3]]\n",
            "[[1], [0, 2], [1, 3, 4], [4, 2], [3, 2]]\n"
          ]
        }
      ]
    }
  ]
}