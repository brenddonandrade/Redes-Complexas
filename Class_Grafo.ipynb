{
  "nbformat": 4,
  "nbformat_minor": 0,
  "metadata": {
    "colab": {
      "provenance": [],
      "include_colab_link": true
    },
    "kernelspec": {
      "name": "python3",
      "display_name": "Python 3"
    },
    "language_info": {
      "name": "python"
    }
  },
  "cells": [
    {
      "cell_type": "markdown",
      "metadata": {
        "id": "view-in-github",
        "colab_type": "text"
      },
      "source": [
        "<a href=\"https://colab.research.google.com/github/brenddonandrade/Redes-Complexas/blob/main/Class_Grafo.ipynb\" target=\"_parent\"><img src=\"https://colab.research.google.com/assets/colab-badge.svg\" alt=\"Open In Colab\"/></a>"
      ]
    },
    {
      "cell_type": "code",
      "execution_count": 3,
      "metadata": {
        "id": "EFpVl-g0eHlo"
      },
      "outputs": [],
      "source": [
        "import numpy as np\n",
        "\n",
        "\n",
        "class Grafo:\n",
        "    \n",
        "\n",
        "    def __init__(self, vertices):\n",
        "        ''' \n",
        "        Construtor com o parametro de entrada sendo o número de nos do grafo\n",
        "        '''\n",
        "\n",
        "        self.vertices = vertices\n",
        "        self.grafo = np.zeros((vertices, vertices), int)\n",
        "\n",
        "\n",
        "    def adiciona_aresta(self, u, v):\n",
        "        '''\n",
        "        Adiciona uma aresta nao direcionada\n",
        "        :param u: vertice a ser incrementado aresta com v\n",
        "        :param v: =     =   =   =   =   =   =   =   =   u\n",
        "        '''\n",
        "\n",
        "        self.grafo[u-1][v-1] = 1\n",
        "        self.grafo[u-1][v-1] = 1\n",
        "\n",
        "\n",
        "    def mostra_matriz(self):\n",
        "        '''\n",
        "        Retorna uma matriz para que possa ser salva num arquivo txt\n",
        "        '''\n",
        "\n",
        "        matriz = []\n",
        "        for i in range(self.vertices):\n",
        "            matriz.append(self.grafo[i])\n",
        "        return matriz\n",
        "\n",
        "\n",
        "\n",
        "    def calc_grau(self):\n",
        "        '''\n",
        "        Calcula o grau do vertice retornando uma coluna com os graus de cada vertice\n",
        "        '''\n",
        "\n",
        "        grau = []\n",
        "        for i in range(self.vertices):\n",
        "            grau.append(sum(self.grafo[i]))\n",
        "        return grau\n",
        "\n",
        "\n",
        "grafo1 = Grafo(3)\n",
        "\n",
        "grafo1.adiciona_aresta(2,3)\n",
        "grafo1.adiciona_aresta(1,3)\n",
        "\n",
        "matriz = grafo1.mostra_matriz()\n",
        "\n",
        "np.savetxt('matriz.txt', matriz, fmt='%d')\n",
        "\n",
        "\n",
        "grau = grafo1.calc_grau()\n",
        "\n",
        "np.savetxt('grau.txt', grau, fmt='%d')"
      ]
    }
  ]
}